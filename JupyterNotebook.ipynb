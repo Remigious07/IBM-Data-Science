{
 "cells": [
  {
   "cell_type": "markdown",
   "metadata": {},
   "source": [
    "JupyterNoteook"
   ]
  },
  {
   "cell_type": "markdown",
   "metadata": {},
   "source": [
    "Markdown is a lightweight markup language that you can use to format text in Jupyter Notebooks. Markdown cells allow you to include formatted text, images, links, and more."
   ]
  },
  {
   "cell_type": "markdown",
   "metadata": {
    "tags": []
   },
   "source": [
    "Data Science languages:\n",
    "\n",
    "1. Python\n",
    "\n",
    "2. R\n",
    "\n",
    "3. SQL (Structured Query Language)\n",
    "\n",
    "4. Java\n",
    "\n",
    "5. Julia\n",
    "\n",
    "6. Scala\n",
    "\n",
    "7. MATLAB\n",
    "\n",
    "8. SAS (Statistical Analysis System)"
   ]
  },
  {
   "cell_type": "markdown",
   "metadata": {},
   "source": [
    "Data science libraries:\n",
    "1. **NumPy:** Fundamental package for scientific computing with support for large, multi-dimensional arrays and matrices.\n",
    "\n",
    "2. **Pandas:** Data manipulation and analysis library, providing data structures like DataFrames.\n",
    "\n",
    "3. **Matplotlib:** Plotting library for creating static, interactive, and animated visualizations in Python.\n",
    "\n",
    "4. **Seaborn:** Statistical data visualization based on Matplotlib, providing a high-level interface for drawing attractive statistical graphics.\n",
    "\n",
    "5. **Scikit-learn:** Machine learning library with tools for classification, regression, clustering, dimensionality reduction, and more.\n",
    "\n",
    "6. **TensorFlow:** Open-source machine learning library developed by Google for building and training deep learning models.\n",
    "\n",
    "7. **PyTorch:** Open-source machine learning library developed by Facebook, known for its dynamic computational graph and flexibility.\n",
    "\n",
    "8. **Keras:** High-level neural networks API, running on top of TensorFlow or other backends.\n",
    "\n",
    "9. **NLTK (Natural Language Toolkit):** Library for working with human language data, including tokenization, stemming, tagging, parsing, and more.\n",
    "\n",
    "10. **Statsmodels:** Library for estimating and testing statistical models.\n",
    "\n",
    "11. **Beautiful Soup:** Library for pulling data out of HTML and XML files, useful for web scraping.\n",
    "\n",
    "12. **Scrapy:** An open-source and collaborative web crawling framework for Python used to extract the data from websites.\n",
    "\n",
    "13. **NetworkX:** Library for the creation, manipulation, and study of the structure, dynamics, and functions of complex networks.\n",
    "\n",
    "14. **SQLAlchemy:** SQL toolkit and Object-Relational Mapping (ORM) library for Python.\n",
    "\n",
    "15. **LightGBM:** Gradient boosting framework that uses tree-based learning algorithms.\n",
    "\n",
    "16. **XGBoost:** Scalable and accurate implementation of gradient boosting.\n",
    "\n",
    "17. **Plotly:** Interactive plotting library for creating visualizations in web applications.\n",
    "\n",
    "18. **Bokeh:** Interactive visualization library that targets modern web browsers for presentation.\n",
    "\n",
    "19. **OpenCV:** Open Source Computer Vision Library for computer vision and machine learning.\n",
    "\n",
    "20. **PySpark:** Python API for Apache Spark, a fast and general-purpose cluster computing system."
   ]
  },
  {
   "cell_type": "markdown",
   "metadata": {},
   "source": [
    "| Tool               | Description                                        |\n",
    "|--------------------|----------------------------------------------------|\n",
    "| **Programming Languages** | |\n",
    "| Python             | General-purpose language with extensive libraries for data science. |\n",
    "| R                  | Specialized for statistical computing and graphics. |\n",
    "| SQL                | Essential for querying and managing databases.     |\n",
    "| Java               | Used in big data processing frameworks.            |\n",
    "| Julia              | High-performance language for technical computing. |\n",
    "| Scala              | Often used with Apache Spark for distributed computing. |\n",
    "| MATLAB             | Popular for numerical computing in engineering and science. |\n",
    "| SAS                | Software suite for advanced analytics and data management. |\n",
    "| **Data Manipulation and Analysis** | |\n",
    "| NumPy              | Fundamental package for scientific computing in Python. |\n",
    "| Pandas             | Data manipulation and analysis library with DataFrame support. |\n",
    "| **Visualization** | |\n",
    "| Matplotlib         | Plotting library for creating static and interactive visualizations. |\n",
    "| Seaborn            | Statistical data visualization based on Matplotlib. |\n",
    "| Plotly             | Interactive plotting library for creating web-based visualizations. |\n",
    "| Bokeh              | Interactive visualization library for modern web browsers. |\n",
    "| **Machine Learning** | |\n",
    "| Scikit-learn       | Machine learning library with tools for classification, regression, and more. |\n",
    "| TensorFlow         | Open-source machine learning library by Google.    |\n",
    "| PyTorch            | Machine learning library by Facebook, known for its dynamic computation graph. |\n",
    "| Keras              | High-level neural networks API running on top of TensorFlow or other backends. |\n",
    "| XGBoost            | Scalable and accurate implementation of gradient boosting. |\n",
    "| LightGBM           | Gradient boosting framework using tree-based learning algorithms. |\n",
    "| **Natural Language Processing (NLP)** | |\n",
    "| NLTK               | Library for working with human language data in Python. |\n",
    "| SpaCy              | Open-source library for advanced NLP in Python.   |\n",
    "| **Data Mining and Web Scraping** | |\n",
    "| Scrapy             | Open-source and collaborative web crawling framework for Python. |\n",
    "| Beautiful Soup     | Library for pulling data out of HTML and XML files (web scraping). |\n",
    "| **Big Data Processing** | |\n",
    "| Apache Spark       | Open-source distributed computing system.         |\n",
    "| PySpark            | Python API for Apache Spark.                        |\n",
    "| **Database Interaction** | |\n",
    "| SQLAlchemy         | SQL toolkit and Object-Relational Mapping (ORM) library for Python. |\n",
    "| **Computer Vision** | |\n",
    "| OpenCV             | Open Source Computer Vision Library for computer vision and machine learning. |\n",
    "\n"
   ]
  },
  {
   "cell_type": "markdown",
   "metadata": {},
   "source": [
    "# Arithmetic Expressions Examples\n",
    "## Basic Operations\n",
    "\n",
    "1. Addition:\n",
    "    2 + 3  # Result: 5\n",
    "\n",
    "2. Subtraction:\n",
    "    7 - 4  # Result: 3\n",
    "\n",
    "3. Multiplication:\n",
    "    5 * 6  # Result: 30\n",
    "\n",
    "4. Division:\n",
    "    8 / 2  # Result: 4.0"
   ]
  },
  {
   "cell_type": "code",
   "execution_count": 2,
   "metadata": {
    "tags": []
   },
   "outputs": [
    {
     "name": "stdout",
     "output_type": "stream",
     "text": [
      "Multiplication Result: 15\n",
      "Addition Result: 8\n"
     ]
    }
   ],
   "source": [
    "# Simple Multiplication and Addition\n",
    "\n",
    "# Define two numbers\n",
    "number1 = 5\n",
    "number2 = 3\n",
    "\n",
    "# Perform multiplication and addition\n",
    "result_multiply = number1 * number2\n",
    "result_addition = number1 + number2\n",
    "\n",
    "# Print the results\n",
    "print(\"Multiplication Result:\", result_multiply)\n",
    "print(\"Addition Result:\", result_addition)"
   ]
  },
  {
   "cell_type": "code",
   "execution_count": 3,
   "metadata": {
    "tags": []
   },
   "outputs": [
    {
     "name": "stdout",
     "output_type": "stream",
     "text": [
      "120 minutes is equal to 2.0 hours\n"
     ]
    }
   ],
   "source": [
    "# Convert Minutes to Hours\n",
    "\n",
    "# Define the number of minutes\n",
    "minutes = 120\n",
    "\n",
    "# Convert minutes to hours\n",
    "hours = minutes / 60\n",
    "\n",
    "# Print the result\n",
    "print(f\"{minutes} minutes is equal to {hours} hours\")"
   ]
  },
  {
   "cell_type": "markdown",
   "metadata": {},
   "source": [
    "# Objectives\n",
    "\n",
    "The objectives of the code include:\n",
    "\n",
    "1. **Define Variables:** Define variables to represent the number of minutes to be converted.\n",
    "\n",
    "2. **Convert Minutes to Hours:** Utilize a simple conversion formula to convert the given minutes to hours.\n",
    "\n",
    "3. **Print Result:** Display the result of the conversion in a human-readable format.\n",
    "\n",
    "4. **Flexibility:** Design the code to be easily adaptable for converting different amounts of time by adjusting the variable values.\n",
    "\n",
    "These objectives ensure that the code is clear, functional, and capable of converting minutes to hours for various scenarios."
   ]
  },
  {
   "cell_type": "markdown",
   "metadata": {
    "tags": []
   },
   "source": [
    "This code was authored by Derrick Remigious."
   ]
  },
  {
   "cell_type": "code",
   "execution_count": null,
   "metadata": {},
   "outputs": [],
   "source": []
  }
 ],
 "metadata": {
  "kernelspec": {
   "display_name": "Python",
   "language": "python",
   "name": "conda-env-python-py"
  },
  "language_info": {
   "codemirror_mode": {
    "name": "ipython",
    "version": 3
   },
   "file_extension": ".py",
   "mimetype": "text/x-python",
   "name": "python",
   "nbconvert_exporter": "python",
   "pygments_lexer": "ipython3",
   "version": "3.7.12"
  }
 },
 "nbformat": 4,
 "nbformat_minor": 4
}
